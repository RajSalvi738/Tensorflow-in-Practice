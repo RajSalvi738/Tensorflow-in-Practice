{
  "nbformat": 4,
  "nbformat_minor": 0,
  "metadata": {
    "accelerator": "GPU",
    "colab": {
      "name": "NLP Course - Week 3 Exercise Question.ipynb",
      "provenance": [],
      "toc_visible": true
    },
    "kernelspec": {
      "display_name": "Python 3",
      "name": "python3"
    }
  },
  "cells": [
    {
      "cell_type": "code",
      "metadata": {
        "id": "zX4Kg8DUTKWO",
        "colab_type": "code",
        "colab": {}
      },
      "source": [
        "#@title Licensed under the Apache License, Version 2.0 (the \"License\");\n",
        "# you may not use this file except in compliance with the License.\n",
        "# You may obtain a copy of the License at\n",
        "#\n",
        "# https://www.apache.org/licenses/LICENSE-2.0\n",
        "#\n",
        "# Unless required by applicable law or agreed to in writing, software\n",
        "# distributed under the License is distributed on an \"AS IS\" BASIS,\n",
        "# WITHOUT WARRANTIES OR CONDITIONS OF ANY KIND, either express or implied.\n",
        "# See the License for the specific language governing permissions and\n",
        "# limitations under the License."
      ],
      "execution_count": null,
      "outputs": []
    },
    {
      "cell_type": "code",
      "metadata": {
        "colab_type": "code",
        "id": "hmA6EzkQJ5jt",
        "colab": {}
      },
      "source": [
        "import json\n",
        "import tensorflow as tf\n",
        "import csv\n",
        "import random\n",
        "import numpy as np\n",
        "\n",
        "from tensorflow.keras.preprocessing.text import Tokenizer\n",
        "from tensorflow.keras.preprocessing.sequence import pad_sequences\n",
        "from tensorflow.keras.utils import to_categorical\n",
        "from tensorflow.keras import regularizers\n",
        "\n",
        "\n",
        "embedding_dim = 100\n",
        "max_length = 16\n",
        "trunc_type='post'\n",
        "padding_type='post'\n",
        "oov_tok = \"<OOV>\"\n",
        "training_size=160000#Your dataset size here. Experiment using smaller values (i.e. 16000), but don't forget to train on at least 160000 to see the best effects\n",
        "test_portion=.1\n",
        "\n",
        "corpus = []\n"
      ],
      "execution_count": 1,
      "outputs": []
    },
    {
      "cell_type": "code",
      "metadata": {
        "colab_type": "code",
        "id": "bM0l_dORKqE0",
        "colab": {
          "base_uri": "https://localhost:8080/",
          "height": 202
        },
        "outputId": "4f58d20e-4a81-4812-a11e-9caca6c88e62"
      },
      "source": [
        "# Note that I cleaned the Stanford dataset to remove LATIN1 encoding to make it easier for Python CSV reader\n",
        "# You can do that yourself with:\n",
        "# iconv -f LATIN1 -t UTF8 training.1600000.processed.noemoticon.csv -o training_cleaned.csv\n",
        "# I then hosted it on my site to make it easier to use in this notebook\n",
        "\n",
        "!wget --no-check-certificate \\\n",
        "    https://storage.googleapis.com/laurencemoroney-blog.appspot.com/training_cleaned.csv \\\n",
        "    -O /tmp/training_cleaned.csv\n",
        "\n",
        "num_sentences = 0\n",
        "\n",
        "with open(\"/tmp/training_cleaned.csv\") as csvfile:\n",
        "    reader = csv.reader(csvfile, delimiter=',')\n",
        "    for row in reader:\n",
        "      # Your Code here. Create list items where the first item is the text, found in row[5], and the second is the label. Note that the label is a '0' or a '4' in the text. When it's the former, make\n",
        "      # your label to be 0, otherwise 1. Keep a count of the number of sentences in num_sentences\n",
        "        list_item=[]\n",
        "        # YOUR CODE HERE\n",
        "        list_item.append(row[5])\n",
        "        this_label=row[0]\n",
        "        if this_label=='0':\n",
        "            list_item.append(0)\n",
        "        else:\n",
        "            list_item.append(1)\n",
        "        num_sentences = num_sentences + 1\n",
        "        corpus.append(list_item)\n"
      ],
      "execution_count": 2,
      "outputs": [
        {
          "output_type": "stream",
          "text": [
            "--2020-06-23 11:50:20--  https://storage.googleapis.com/laurencemoroney-blog.appspot.com/training_cleaned.csv\n",
            "Resolving storage.googleapis.com (storage.googleapis.com)... 108.177.126.128, 2a00:1450:4013:c08::80\n",
            "Connecting to storage.googleapis.com (storage.googleapis.com)|108.177.126.128|:443... connected.\n",
            "HTTP request sent, awaiting response... 200 OK\n",
            "Length: 238942690 (228M) [application/octet-stream]\n",
            "Saving to: ‘/tmp/training_cleaned.csv’\n",
            "\n",
            "/tmp/training_clean 100%[===================>] 227.87M   133MB/s    in 1.7s    \n",
            "\n",
            "2020-06-23 11:50:22 (133 MB/s) - ‘/tmp/training_cleaned.csv’ saved [238942690/238942690]\n",
            "\n"
          ],
          "name": "stdout"
        }
      ]
    },
    {
      "cell_type": "code",
      "metadata": {
        "colab_type": "code",
        "id": "3kxblBUjEUX-",
        "colab": {
          "base_uri": "https://localhost:8080/",
          "height": 67
        },
        "outputId": "174e04a5-d590-4a82-99ca-a4c1692849e8"
      },
      "source": [
        "print(num_sentences)\n",
        "print(len(corpus))\n",
        "print(corpus[1])\n",
        "\n",
        "# Expected Output:\n",
        "# 1600000\n",
        "# 1600000\n",
        "# [\"is upset that he can't update his Facebook by texting it... and might cry as a result  School today also. Blah!\", 0]"
      ],
      "execution_count": 3,
      "outputs": [
        {
          "output_type": "stream",
          "text": [
            "1600000\n",
            "1600000\n",
            "[\"is upset that he can't update his Facebook by texting it... and might cry as a result  School today also. Blah!\", 0]\n"
          ],
          "name": "stdout"
        }
      ]
    },
    {
      "cell_type": "code",
      "metadata": {
        "colab_type": "code",
        "id": "ohOGz24lsNAD",
        "colab": {}
      },
      "source": [
        "sentences=[]\n",
        "labels=[]\n",
        "random.shuffle(corpus)\n",
        "for x in range(training_size):\n",
        "    sentences.append(corpus[x][0])\n",
        "    labels.append(corpus[x][1])\n",
        "\n",
        "\n",
        "tokenizer = Tokenizer()\n",
        "tokenizer.fit_on_texts(sentences)\n",
        "\n",
        "word_index = tokenizer.word_index\n",
        "vocab_size=len(word_index)\n",
        "\n",
        "sequences = tokenizer.texts_to_sequences(sentences)\n",
        "padded = pad_sequences(sequences, maxlen=max_length, padding=padding_type, truncating=trunc_type)\n",
        "\n",
        "split = int(test_portion * training_size)\n",
        "\n",
        "test_sequences = padded[0:split]\n",
        "training_sequences = padded[split:training_size]\n",
        "test_labels = labels[0:split]\n",
        "training_labels = labels[split:training_size]"
      ],
      "execution_count": 4,
      "outputs": []
    },
    {
      "cell_type": "code",
      "metadata": {
        "colab_type": "code",
        "id": "gIrtRem1En3N",
        "colab": {
          "base_uri": "https://localhost:8080/",
          "height": 50
        },
        "outputId": "1096d098-2089-4e45-d344-ac856a3d5a0c"
      },
      "source": [
        "print(vocab_size)\n",
        "print(word_index['i'])\n",
        "# Expected Output\n",
        "# 138858\n",
        "# 1"
      ],
      "execution_count": 5,
      "outputs": [
        {
          "output_type": "stream",
          "text": [
            "138894\n",
            "1\n"
          ],
          "name": "stdout"
        }
      ]
    },
    {
      "cell_type": "code",
      "metadata": {
        "colab_type": "code",
        "id": "C1zdgJkusRh0",
        "colab": {
          "base_uri": "https://localhost:8080/",
          "height": 202
        },
        "outputId": "f2332e20-ae56-4657-f1f6-19211e72083d"
      },
      "source": [
        "# Note this is the 100 dimension version of GloVe from Stanford\n",
        "# I unzipped and hosted it on my site to make this notebook easier\n",
        "!wget --no-check-certificate \\\n",
        "    https://storage.googleapis.com/laurencemoroney-blog.appspot.com/glove.6B.100d.txt \\\n",
        "    -O /tmp/glove.6B.100d.txt\n",
        "embeddings_index = {};\n",
        "with open('/tmp/glove.6B.100d.txt') as f:\n",
        "    for line in f:\n",
        "        values = line.split();\n",
        "        word = values[0];\n",
        "        coefs = np.asarray(values[1:], dtype='float32');\n",
        "        embeddings_index[word] = coefs;\n",
        "\n",
        "embeddings_matrix = np.zeros((vocab_size+1, embedding_dim));\n",
        "for word, i in word_index.items():\n",
        "    embedding_vector = embeddings_index.get(word);\n",
        "    if embedding_vector is not None:\n",
        "        embeddings_matrix[i] = embedding_vector;"
      ],
      "execution_count": 6,
      "outputs": [
        {
          "output_type": "stream",
          "text": [
            "--2020-06-23 11:50:51--  https://storage.googleapis.com/laurencemoroney-blog.appspot.com/glove.6B.100d.txt\n",
            "Resolving storage.googleapis.com (storage.googleapis.com)... 173.194.79.128, 2a00:1450:4013:c04::80\n",
            "Connecting to storage.googleapis.com (storage.googleapis.com)|173.194.79.128|:443... connected.\n",
            "HTTP request sent, awaiting response... 200 OK\n",
            "Length: 347116733 (331M) [text/plain]\n",
            "Saving to: ‘/tmp/glove.6B.100d.txt’\n",
            "\n",
            "/tmp/glove.6B.100d. 100%[===================>] 331.04M  87.2MB/s    in 3.8s    \n",
            "\n",
            "2020-06-23 11:50:56 (87.2 MB/s) - ‘/tmp/glove.6B.100d.txt’ saved [347116733/347116733]\n",
            "\n"
          ],
          "name": "stdout"
        }
      ]
    },
    {
      "cell_type": "code",
      "metadata": {
        "colab_type": "code",
        "id": "71NLk_lpFLNt",
        "colab": {
          "base_uri": "https://localhost:8080/",
          "height": 34
        },
        "outputId": "dbd28d97-1ed6-40ab-c81e-b1131d5e8502"
      },
      "source": [
        "print(len(embeddings_matrix))\n",
        "# Expected Output\n",
        "# 138859"
      ],
      "execution_count": 7,
      "outputs": [
        {
          "output_type": "stream",
          "text": [
            "138895\n"
          ],
          "name": "stdout"
        }
      ]
    },
    {
      "cell_type": "code",
      "metadata": {
        "colab_type": "code",
        "id": "iKKvbuEBOGFz",
        "colab": {
          "base_uri": "https://localhost:8080/",
          "height": 1000
        },
        "outputId": "29ef20ca-e1a8-40d4-9816-4cb0980e3938"
      },
      "source": [
        "model = tf.keras.Sequential([\n",
        "    tf.keras.layers.Embedding(vocab_size+1, embedding_dim, input_length=max_length, weights=[embeddings_matrix], trainable=False),\n",
        "    tf.keras.layers.Dropout(0.2),\n",
        "    tf.keras.layers.Conv1D(64, 5, activation='relu'),\n",
        "    tf.keras.layers.MaxPooling1D(pool_size=4),\n",
        "    tf.keras.layers.LSTM(64),\n",
        "    tf.keras.layers.Dense(1, activation='sigmoid')\n",
        "])\n",
        "model.compile(loss='binary_crossentropy',optimizer='adam',metrics=['accuracy'])\n",
        "model.summary()\n",
        "\n",
        "num_epochs = 50\n",
        "\n",
        "training_padded = np.array(training_sequences)\n",
        "training_labels = np.array(training_labels)\n",
        "testing_padded = np.array(test_sequences)\n",
        "testing_labels = np.array(test_labels)\n",
        "\n",
        "history = model.fit(training_padded, training_labels, epochs=num_epochs, validation_data=(testing_padded, testing_labels), verbose=2)\n",
        "\n",
        "print(\"Training Complete\")"
      ],
      "execution_count": 9,
      "outputs": [
        {
          "output_type": "stream",
          "text": [
            "Model: \"sequential_1\"\n",
            "_________________________________________________________________\n",
            "Layer (type)                 Output Shape              Param #   \n",
            "=================================================================\n",
            "embedding_1 (Embedding)      (None, 16, 100)           13889500  \n",
            "_________________________________________________________________\n",
            "dropout_1 (Dropout)          (None, 16, 100)           0         \n",
            "_________________________________________________________________\n",
            "conv1d_1 (Conv1D)            (None, 12, 64)            32064     \n",
            "_________________________________________________________________\n",
            "max_pooling1d_1 (MaxPooling1 (None, 3, 64)             0         \n",
            "_________________________________________________________________\n",
            "lstm_1 (LSTM)                (None, 64)                33024     \n",
            "_________________________________________________________________\n",
            "dense_1 (Dense)              (None, 1)                 65        \n",
            "=================================================================\n",
            "Total params: 13,954,653\n",
            "Trainable params: 65,153\n",
            "Non-trainable params: 13,889,500\n",
            "_________________________________________________________________\n",
            "Epoch 1/50\n",
            "4500/4500 - 16s - loss: 0.5676 - accuracy: 0.6993 - val_loss: 0.5282 - val_accuracy: 0.7337\n",
            "Epoch 2/50\n",
            "4500/4500 - 14s - loss: 0.5275 - accuracy: 0.7311 - val_loss: 0.5175 - val_accuracy: 0.7371\n",
            "Epoch 3/50\n",
            "4500/4500 - 15s - loss: 0.5112 - accuracy: 0.7437 - val_loss: 0.5085 - val_accuracy: 0.7469\n",
            "Epoch 4/50\n",
            "4500/4500 - 15s - loss: 0.5001 - accuracy: 0.7511 - val_loss: 0.5052 - val_accuracy: 0.7488\n",
            "Epoch 5/50\n",
            "4500/4500 - 14s - loss: 0.4910 - accuracy: 0.7569 - val_loss: 0.5076 - val_accuracy: 0.7476\n",
            "Epoch 6/50\n",
            "4500/4500 - 14s - loss: 0.4845 - accuracy: 0.7632 - val_loss: 0.4988 - val_accuracy: 0.7524\n",
            "Epoch 7/50\n",
            "4500/4500 - 14s - loss: 0.4774 - accuracy: 0.7661 - val_loss: 0.5063 - val_accuracy: 0.7479\n",
            "Epoch 8/50\n",
            "4500/4500 - 14s - loss: 0.4735 - accuracy: 0.7681 - val_loss: 0.5062 - val_accuracy: 0.7476\n",
            "Epoch 9/50\n",
            "4500/4500 - 15s - loss: 0.4692 - accuracy: 0.7721 - val_loss: 0.4993 - val_accuracy: 0.7541\n",
            "Epoch 10/50\n",
            "4500/4500 - 14s - loss: 0.4662 - accuracy: 0.7732 - val_loss: 0.5026 - val_accuracy: 0.7523\n",
            "Epoch 11/50\n",
            "4500/4500 - 14s - loss: 0.4628 - accuracy: 0.7757 - val_loss: 0.5008 - val_accuracy: 0.7544\n",
            "Epoch 12/50\n",
            "4500/4500 - 14s - loss: 0.4599 - accuracy: 0.7758 - val_loss: 0.5057 - val_accuracy: 0.7504\n",
            "Epoch 13/50\n",
            "4500/4500 - 14s - loss: 0.4572 - accuracy: 0.7786 - val_loss: 0.5079 - val_accuracy: 0.7545\n",
            "Epoch 14/50\n",
            "4500/4500 - 14s - loss: 0.4548 - accuracy: 0.7795 - val_loss: 0.5037 - val_accuracy: 0.7494\n",
            "Epoch 15/50\n",
            "4500/4500 - 15s - loss: 0.4521 - accuracy: 0.7821 - val_loss: 0.5035 - val_accuracy: 0.7474\n",
            "Epoch 16/50\n",
            "4500/4500 - 14s - loss: 0.4510 - accuracy: 0.7812 - val_loss: 0.5057 - val_accuracy: 0.7499\n",
            "Epoch 17/50\n",
            "4500/4500 - 15s - loss: 0.4464 - accuracy: 0.7842 - val_loss: 0.5089 - val_accuracy: 0.7534\n",
            "Epoch 18/50\n",
            "4500/4500 - 14s - loss: 0.4444 - accuracy: 0.7855 - val_loss: 0.5114 - val_accuracy: 0.7508\n",
            "Epoch 19/50\n",
            "4500/4500 - 14s - loss: 0.4473 - accuracy: 0.7841 - val_loss: 0.5123 - val_accuracy: 0.7523\n",
            "Epoch 20/50\n",
            "4500/4500 - 15s - loss: 0.4443 - accuracy: 0.7858 - val_loss: 0.5084 - val_accuracy: 0.7486\n",
            "Epoch 21/50\n",
            "4500/4500 - 15s - loss: 0.4411 - accuracy: 0.7879 - val_loss: 0.5106 - val_accuracy: 0.7489\n",
            "Epoch 22/50\n",
            "4500/4500 - 15s - loss: 0.4425 - accuracy: 0.7865 - val_loss: 0.5095 - val_accuracy: 0.7501\n",
            "Epoch 23/50\n",
            "4500/4500 - 14s - loss: 0.4408 - accuracy: 0.7881 - val_loss: 0.5108 - val_accuracy: 0.7490\n",
            "Epoch 24/50\n",
            "4500/4500 - 15s - loss: 0.4392 - accuracy: 0.7896 - val_loss: 0.5118 - val_accuracy: 0.7498\n",
            "Epoch 25/50\n",
            "4500/4500 - 14s - loss: 0.4388 - accuracy: 0.7892 - val_loss: 0.5150 - val_accuracy: 0.7495\n",
            "Epoch 26/50\n",
            "4500/4500 - 15s - loss: 0.4376 - accuracy: 0.7898 - val_loss: 0.5135 - val_accuracy: 0.7466\n",
            "Epoch 27/50\n",
            "4500/4500 - 14s - loss: 0.4381 - accuracy: 0.7896 - val_loss: 0.5103 - val_accuracy: 0.7513\n",
            "Epoch 28/50\n",
            "4500/4500 - 14s - loss: 0.4367 - accuracy: 0.7899 - val_loss: 0.5126 - val_accuracy: 0.7495\n",
            "Epoch 29/50\n",
            "4500/4500 - 15s - loss: 0.4351 - accuracy: 0.7916 - val_loss: 0.5181 - val_accuracy: 0.7493\n",
            "Epoch 30/50\n",
            "4500/4500 - 14s - loss: 0.4350 - accuracy: 0.7918 - val_loss: 0.5191 - val_accuracy: 0.7492\n",
            "Epoch 31/50\n",
            "4500/4500 - 15s - loss: 0.4353 - accuracy: 0.7922 - val_loss: 0.5204 - val_accuracy: 0.7467\n",
            "Epoch 32/50\n",
            "4500/4500 - 15s - loss: 0.4350 - accuracy: 0.7924 - val_loss: 0.5204 - val_accuracy: 0.7453\n",
            "Epoch 33/50\n",
            "4500/4500 - 15s - loss: 0.4338 - accuracy: 0.7916 - val_loss: 0.5182 - val_accuracy: 0.7489\n",
            "Epoch 34/50\n",
            "4500/4500 - 14s - loss: 0.4309 - accuracy: 0.7943 - val_loss: 0.5162 - val_accuracy: 0.7532\n",
            "Epoch 35/50\n",
            "4500/4500 - 14s - loss: 0.4329 - accuracy: 0.7927 - val_loss: 0.5167 - val_accuracy: 0.7456\n",
            "Epoch 36/50\n",
            "4500/4500 - 14s - loss: 0.4319 - accuracy: 0.7938 - val_loss: 0.5160 - val_accuracy: 0.7531\n",
            "Epoch 37/50\n",
            "4500/4500 - 15s - loss: 0.4313 - accuracy: 0.7934 - val_loss: 0.5164 - val_accuracy: 0.7511\n",
            "Epoch 38/50\n",
            "4500/4500 - 15s - loss: 0.4311 - accuracy: 0.7944 - val_loss: 0.5147 - val_accuracy: 0.7514\n",
            "Epoch 39/50\n",
            "4500/4500 - 14s - loss: 0.4305 - accuracy: 0.7952 - val_loss: 0.5241 - val_accuracy: 0.7487\n",
            "Epoch 40/50\n",
            "4500/4500 - 14s - loss: 0.4319 - accuracy: 0.7944 - val_loss: 0.5227 - val_accuracy: 0.7467\n",
            "Epoch 41/50\n",
            "4500/4500 - 14s - loss: 0.4310 - accuracy: 0.7945 - val_loss: 0.5265 - val_accuracy: 0.7436\n",
            "Epoch 42/50\n",
            "4500/4500 - 14s - loss: 0.4308 - accuracy: 0.7939 - val_loss: 0.5254 - val_accuracy: 0.7474\n",
            "Epoch 43/50\n",
            "4500/4500 - 15s - loss: 0.4284 - accuracy: 0.7955 - val_loss: 0.5213 - val_accuracy: 0.7489\n",
            "Epoch 44/50\n",
            "4500/4500 - 15s - loss: 0.4285 - accuracy: 0.7955 - val_loss: 0.5217 - val_accuracy: 0.7467\n",
            "Epoch 45/50\n",
            "4500/4500 - 14s - loss: 0.4280 - accuracy: 0.7956 - val_loss: 0.5208 - val_accuracy: 0.7465\n",
            "Epoch 46/50\n",
            "4500/4500 - 14s - loss: 0.4289 - accuracy: 0.7949 - val_loss: 0.5189 - val_accuracy: 0.7496\n",
            "Epoch 47/50\n",
            "4500/4500 - 14s - loss: 0.4289 - accuracy: 0.7946 - val_loss: 0.5253 - val_accuracy: 0.7457\n",
            "Epoch 48/50\n",
            "4500/4500 - 15s - loss: 0.4270 - accuracy: 0.7980 - val_loss: 0.5260 - val_accuracy: 0.7476\n",
            "Epoch 49/50\n",
            "4500/4500 - 15s - loss: 0.4281 - accuracy: 0.7969 - val_loss: 0.5276 - val_accuracy: 0.7429\n",
            "Epoch 50/50\n",
            "4500/4500 - 14s - loss: 0.4267 - accuracy: 0.7973 - val_loss: 0.5190 - val_accuracy: 0.7499\n",
            "Training Complete\n"
          ],
          "name": "stdout"
        }
      ]
    },
    {
      "cell_type": "code",
      "metadata": {
        "colab_type": "code",
        "id": "qxju4ItJKO8F",
        "colab": {
          "base_uri": "https://localhost:8080/",
          "height": 606
        },
        "outputId": "180d5d3c-6acd-4447-e27b-318da46fcaf9"
      },
      "source": [
        "import matplotlib.image  as mpimg\n",
        "import matplotlib.pyplot as plt\n",
        "\n",
        "#-----------------------------------------------------------\n",
        "# Retrieve a list of list results on training and test data\n",
        "# sets for each training epoch\n",
        "#-----------------------------------------------------------\n",
        "acc=history.history['accuracy']\n",
        "val_acc=history.history['val_accuracy']\n",
        "loss=history.history['loss']\n",
        "val_loss=history.history['val_loss']\n",
        "\n",
        "epochs=range(len(acc)) # Get number of epochs\n",
        "\n",
        "#------------------------------------------------\n",
        "# Plot training and validation accuracy per epoch\n",
        "#------------------------------------------------\n",
        "plt.plot(epochs, acc, 'r')\n",
        "plt.plot(epochs, val_acc, 'b')\n",
        "plt.title('Training and validation accuracy')\n",
        "plt.xlabel(\"Epochs\")\n",
        "plt.ylabel(\"Accuracy\")\n",
        "plt.legend([\"Accuracy\", \"Validation Accuracy\"])\n",
        "\n",
        "plt.figure()\n",
        "\n",
        "#------------------------------------------------\n",
        "# Plot training and validation loss per epoch\n",
        "#------------------------------------------------\n",
        "plt.plot(epochs, loss, 'r')\n",
        "plt.plot(epochs, val_loss, 'b')\n",
        "plt.title('Training and validation loss')\n",
        "plt.xlabel(\"Epochs\")\n",
        "plt.ylabel(\"Loss\")\n",
        "plt.legend([\"Loss\", \"Validation Loss\"])\n",
        "\n",
        "plt.figure()\n",
        "\n",
        "\n",
        "# Expected Output\n",
        "# A chart where the validation loss does not increase sharply!"
      ],
      "execution_count": 10,
      "outputs": [
        {
          "output_type": "execute_result",
          "data": {
            "text/plain": [
              "<Figure size 432x288 with 0 Axes>"
            ]
          },
          "metadata": {
            "tags": []
          },
          "execution_count": 10
        },
        {
          "output_type": "display_data",
          "data": {
            "image/png": "[encoded data removed]",
            "text/plain": [
              "<Figure size 432x288 with 1 Axes>"
            ]
          },
          "metadata": {
            "tags": [],
            "needs_background": "light"
          }
        },
        {
          "output_type": "display_data",
          "data": {
            "image/png": "[encoded data removed]",
            "text/plain": [
              "<Figure size 432x288 with 1 Axes>"
            ]
          },
          "metadata": {
            "tags": [],
            "needs_background": "light"
          }
        },
        {
          "output_type": "display_data",
          "data": {
            "text/plain": [
              "<Figure size 432x288 with 0 Axes>"
            ]
          },
          "metadata": {
            "tags": []
          }
        }
      ]
    },
    {
      "cell_type": "code",
      "metadata": {
        "id": "e2dmOxjqEOqD",
        "colab_type": "code",
        "colab": {}
      },
      "source": [
        ""
      ],
      "execution_count": null,
      "outputs": []
    }
  ]
}